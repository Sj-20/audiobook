{
  "nbformat": 4,
  "nbformat_minor": 0,
  "metadata": {
    "colab": {
      "name": "Audiobook.ipynb",
      "provenance": []
    },
    "kernelspec": {
      "name": "python3",
      "display_name": "Python 3"
    },
    "language_info": {
      "name": "python"
    }
  },
  "cells": [
    {
      "cell_type": "code",
      "metadata": {
        "colab": {
          "base_uri": "https://localhost:8080/"
        },
        "id": "zyiL9FJ6Jy85",
        "outputId": "6e452aa7-0c9c-42d2-fccd-f0e8d997dd20"
      },
      "source": [
        "!pip install pdfplumber\n",
        "!pip install PyPDF2\n",
        "!apt install libespeak1"
      ],
      "execution_count": 22,
      "outputs": [
        {
          "output_type": "stream",
          "text": [
            "Requirement already satisfied: pdfplumber in /usr/local/lib/python3.7/dist-packages (0.5.27)\n",
            "Requirement already satisfied: Wand in /usr/local/lib/python3.7/dist-packages (from pdfplumber) (0.6.6)\n",
            "Requirement already satisfied: Pillow>=7.0.0 in /usr/local/lib/python3.7/dist-packages (from pdfplumber) (7.0.0)\n",
            "Requirement already satisfied: pdfminer.six==20200517 in /usr/local/lib/python3.7/dist-packages (from pdfplumber) (20200517)\n",
            "Requirement already satisfied: pycryptodome in /usr/local/lib/python3.7/dist-packages (from pdfminer.six==20200517->pdfplumber) (3.10.1)\n",
            "Requirement already satisfied: chardet; python_version > \"3.0\" in /usr/local/lib/python3.7/dist-packages (from pdfminer.six==20200517->pdfplumber) (3.0.4)\n",
            "Requirement already satisfied: sortedcontainers in /usr/local/lib/python3.7/dist-packages (from pdfminer.six==20200517->pdfplumber) (2.3.0)\n",
            "Requirement already satisfied: PyPDF2 in /usr/local/lib/python3.7/dist-packages (1.26.0)\n",
            "Reading package lists... Done\n",
            "Building dependency tree       \n",
            "Reading state information... Done\n",
            "libespeak1 is already the newest version (1.48.04+dfsg-5).\n",
            "0 upgraded, 0 newly installed, 0 to remove and 29 not upgraded.\n"
          ],
          "name": "stdout"
        }
      ]
    },
    {
      "cell_type": "markdown",
      "metadata": {
        "id": "81R6qzJ0FowQ"
      },
      "source": [
        "Import libraries"
      ]
    },
    {
      "cell_type": "code",
      "metadata": {
        "id": "Yf8M2ngIDd8I"
      },
      "source": [
        "import pyttsx3\n",
        "import pdfplumber\n",
        "import PyPDF2\n"
      ],
      "execution_count": 23,
      "outputs": []
    },
    {
      "cell_type": "markdown",
      "metadata": {
        "id": "COiFcWzUF1XA"
      },
      "source": [
        "Accessing the pdf file"
      ]
    },
    {
      "cell_type": "code",
      "metadata": {
        "id": "7ye6iGWoF4po"
      },
      "source": [
        "file= '/content/AGA_Course_Certificate.pdf'"
      ],
      "execution_count": 24,
      "outputs": []
    },
    {
      "cell_type": "markdown",
      "metadata": {
        "id": "ww1qgkH2Gr35"
      },
      "source": [
        "Creating a pdf file object"
      ]
    },
    {
      "cell_type": "code",
      "metadata": {
        "id": "5y3G2M_rGvjI"
      },
      "source": [
        "pdfFileObj= open(file,'rb')"
      ],
      "execution_count": 25,
      "outputs": []
    },
    {
      "cell_type": "markdown",
      "metadata": {
        "id": "gm3deAVlG7j_"
      },
      "source": [
        "Creating a pdf file reader object"
      ]
    },
    {
      "cell_type": "code",
      "metadata": {
        "id": "y7X4LS2oG_HY"
      },
      "source": [
        "pdfReader = PyPDF2.PdfFileReader(pdfFileObj)"
      ],
      "execution_count": 26,
      "outputs": []
    },
    {
      "cell_type": "markdown",
      "metadata": {
        "id": "-flb-kUrHa3p"
      },
      "source": [
        "Getting the number of pages in the pdf"
      ]
    },
    {
      "cell_type": "code",
      "metadata": {
        "id": "BrqJCh76Hb0A"
      },
      "source": [
        "pages = pdfReader.numPages"
      ],
      "execution_count": 27,
      "outputs": []
    },
    {
      "cell_type": "markdown",
      "metadata": {
        "id": "dM0hENz-HlSQ"
      },
      "source": [
        "Creating a pdfplumber object and loop through the number of pages in pdf file"
      ]
    },
    {
      "cell_type": "code",
      "metadata": {
        "colab": {
          "base_uri": "https://localhost:8080/"
        },
        "id": "c4fV4fLyHtWn",
        "outputId": "ffd0bc2b-12b0-4fdc-bfe7-b809a09d484e"
      },
      "source": [
        "with pdfplumber.open (file) as pdf:\n",
        "  for i in range(0,pages):\n",
        "    page= pdf.pages[i]\n",
        "    text= page.extract_text()\n",
        "    print(text)\n",
        "    speaker = pyttsx3.init()\n",
        "    speaker.say(text)\n",
        "    speaker.runAndWait() "
      ],
      "execution_count": 28,
      "outputs": [
        {
          "output_type": "stream",
          "text": [
            "Analytics Academy\n",
            " \n",
            "Advanced Google Analytics\n",
            "Certi\u0000cate of Completion\n",
            "Md Shargil Hossain\n",
            "Awarded for successfully completing\n",
            "the course \"Advanced Google\n",
            "Analytics\"\n",
            "Certi\u0000cate expires March 13, 2024\n"
          ],
          "name": "stdout"
        }
      ]
    }
  ]
}